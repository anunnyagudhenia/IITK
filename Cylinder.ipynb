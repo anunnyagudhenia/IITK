{
 "cells": [
  {
   "cell_type": "code",
   "execution_count": 20,
   "id": "4534859e-c434-4bc4-bfe2-22ba0111f56e",
   "metadata": {},
   "outputs": [],
   "source": [
    "import numpy as np\n",
    "import matplotlib.pyplot as plt\n",
    "import math"
   ]
  },
  {
   "cell_type": "code",
   "execution_count": 39,
   "id": "a7e80302-f5e2-41a5-82c0-e6315dc5c06a",
   "metadata": {},
   "outputs": [],
   "source": [
    "def Lmat(h, r0, M, N, epsilon_0=8.854e-12):\n",
    "    \"\"\"\n",
    "    Compute the capacitance per unit length of a metallic cylinder using moment method.\n",
    "    :param h: Height of the cylinder\n",
    "    :param r0: Radius of the cylinder\n",
    "    :param M: Number of subsections along circumference\n",
    "    :param N: Number of subsections along height\n",
    "    :param epsilon_0: Permittivity of free space (default: 8.854e-12 F/m)\n",
    "    :return: Capacitance per unit length (F/m)\n",
    "    \"\"\"\n",
    "    MN = M * N  # Total number of subsections\n",
    "    L_matrix = np.zeros((MN, MN))\n",
    "    \n",
    "    for m in range(MN):\n",
    "        for n in range(MN):\n",
    "            if m != n:\n",
    "                sn=2*np.pi*r0*h/MN\n",
    "                theta_m, theta_n = (2 * np.pi * (m % M) / M, 2 * np.pi * (n % M) / M)\n",
    "                z_m, z_n = ((m // M) * h / N, (n // M) * h / N)\n",
    "                \n",
    "                distance = np.sqrt((2 * r0 * np.sin((theta_m - theta_n) / 2))**2 + (z_m - z_n)**2)\n",
    "                L_matrix[m, n] = sn / (4 * np.pi * epsilon_0 * distance)\n",
    "            else:\n",
    "                a=(2*np.pi*r0)/M\n",
    "                b=h/N\n",
    "                temp1=b+(math.pow(a,2)+math.pow(b,2))**0.5\n",
    "                temp2=-b+(math.pow(a,2)+math.pow(b,2))**0.5\n",
    "                temp3=a*math.log(temp1/temp2)\n",
    "                temp4=a+(math.pow(a,2)+math.pow(b,2))**0.5\n",
    "                temp5=-a+(math.pow(a,2)+math.pow(b,2))**0.5\n",
    "                temp6=b*math.log(temp1/temp2)\n",
    "                L_matrix[m, n] =(temp3+temp6)/(4 * np.pi * epsilon_0)\n",
    "    \n",
    "    #L_inv = np.linalg.inv(L_matrix)\n",
    "    #capacitance = np.sum(L_inv)\n",
    "    \n",
    "    return L_matrix  # Capacitance per unit length"
   ]
  },
  {
   "cell_type": "code",
   "execution_count": 61,
   "id": "9ce9cc96-ac13-4490-a607-58258886b7a1",
   "metadata": {},
   "outputs": [],
   "source": [
    "def alpha(h, r0, M, N):\n",
    "    MN=M*N\n",
    "    L=Lmat(h, r0, M, N)\n",
    "    L_inv = np.linalg.inv(L)\n",
    "    V = np.ones((MN, 1))\n",
    "    al=np.dot(L_inv,V)\n",
    "    return al"
   ]
  },
  {
   "cell_type": "code",
   "execution_count": 67,
   "id": "b14a3bad-0ae1-420f-8ce9-7b8b7fa77568",
   "metadata": {},
   "outputs": [],
   "source": [
    "def compute_capacitance_per_unit_length(h,r0,M,N):\n",
    "    MN=M*N\n",
    "    sn=2*np.pi*r0*h/MN\n",
    "    al=alpha(h,r0,M,N)\n",
    "    q=0\n",
    "    for i in range(M*N):\n",
    "        q+=al[i][0]*sn\n",
    "    return q/h"
   ]
  },
  {
   "cell_type": "code",
   "execution_count": 88,
   "id": "44f28264-3c26-40a8-aa74-7c1a01420462",
   "metadata": {},
   "outputs": [
    {
     "name": "stdout",
     "output_type": "stream",
     "text": [
      "Capacitance per unit length: 65.0792 pF/m\n",
      "Capacitance per unit length: 45.0206 pF/m\n",
      "Capacitance per unit length: 24.6352 pF/m\n",
      "Capacitance per unit length: 15.6042 pF/m\n",
      "Capacitance per unit length: 9.9332 pF/m\n"
     ]
    }
   ],
   "source": [
    "X=[]\n",
    "Y=[]\n",
    "for h,r0,M,N in[\n",
    "    (2,1,11,9),\n",
    "    (4,1,9,11),\n",
    "    (12,1,9,13),\n",
    "    (40,1,10,30),\n",
    "    (120,1,10,40)\n",
    "]:\n",
    "    cap_per_unit_length = compute_capacitance_per_unit_length(h, r0, M, N)\n",
    "    print(f\"Capacitance per unit length: {cap_per_unit_length * 1e12:.4f} pF/m\")\n",
    "    X.append(h/r0)\n",
    "    Y.append(cap_per_unit_length)"
   ]
  },
  {
   "cell_type": "code",
   "execution_count": 96,
   "id": "8fe56c0e-a47c-4ee3-b76a-b9a516f559d3",
   "metadata": {},
   "outputs": [
    {
     "data": {
      "image/png": "[encoded data removed]",
      "text/plain": [
       "<Figure size 640x480 with 1 Axes>"
      ]
     },
     "metadata": {},
     "output_type": "display_data"
    }
   ],
   "source": [
    "plt.plot(X, Y, linestyle='-', linewidth=2.5, marker='o', markersize=8, color='blue', label='Data Points')\n",
    "plt.xlabel(\"h/r0\")\n",
    "plt.ylabel(\"Capacitance/Length (pf/m)\")\n",
    "plt.yticks([0e-12,25e-12,50e-12,75e-12,100e-12,125e-12,150e-12])\n",
    "plt.grid()\n",
    "plt.show()"
   ]
  },
  {
   "cell_type": "code",
   "execution_count": null,
   "id": "372051a4-07eb-48e9-b559-69b715481d00",
   "metadata": {},
   "outputs": [],
   "source": []
  }
 ],
 "metadata": {
  "kernelspec": {
   "display_name": "Python [conda env:base] *",
   "language": "python",
   "name": "conda-base-py"
  },
  "language_info": {
   "codemirror_mode": {
    "name": "ipython",
    "version": 3
   },
   "file_extension": ".py",
   "mimetype": "text/x-python",
   "name": "python",
   "nbconvert_exporter": "python",
   "pygments_lexer": "ipython3",
   "version": "3.12.7"
  }
 },
 "nbformat": 4,
 "nbformat_minor": 5
}
